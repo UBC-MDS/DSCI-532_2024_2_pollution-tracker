{
 "cells": [
  {
   "cell_type": "markdown",
   "metadata": {},
   "source": [
    "# Preliminary EDA"
   ]
  },
  {
   "cell_type": "code",
   "execution_count": 2,
   "metadata": {},
   "outputs": [],
   "source": [
    "import pandas as pd"
   ]
  },
  {
   "cell_type": "code",
   "execution_count": 8,
   "metadata": {},
   "outputs": [
    {
     "data": {
      "text/html": [
       "<div>\n",
       "<style scoped>\n",
       "    .dataframe tbody tr th:only-of-type {\n",
       "        vertical-align: middle;\n",
       "    }\n",
       "\n",
       "    .dataframe tbody tr th {\n",
       "        vertical-align: top;\n",
       "    }\n",
       "\n",
       "    .dataframe thead th {\n",
       "        text-align: right;\n",
       "    }\n",
       "</style>\n",
       "<table border=\"1\" class=\"dataframe\">\n",
       "  <thead>\n",
       "    <tr style=\"text-align: right;\">\n",
       "      <th></th>\n",
       "      <th>Country Code</th>\n",
       "      <th>City</th>\n",
       "      <th>Location</th>\n",
       "      <th>Coordinates</th>\n",
       "      <th>Pollutant</th>\n",
       "      <th>Source Name</th>\n",
       "      <th>Unit</th>\n",
       "      <th>Value</th>\n",
       "      <th>Last Updated</th>\n",
       "      <th>Country Label</th>\n",
       "    </tr>\n",
       "  </thead>\n",
       "  <tbody>\n",
       "    <tr>\n",
       "      <th>0</th>\n",
       "      <td>JP</td>\n",
       "      <td>NaN</td>\n",
       "      <td>北九州市小倉北区大門一丁目６－４８</td>\n",
       "      <td>33.880833, 130.873056</td>\n",
       "      <td>NO</td>\n",
       "      <td>japan-soramame</td>\n",
       "      <td>ppm</td>\n",
       "      <td>0.002</td>\n",
       "      <td>2024-03-10T13:30:00+05:30</td>\n",
       "      <td>Japan</td>\n",
       "    </tr>\n",
       "    <tr>\n",
       "      <th>1</th>\n",
       "      <td>JP</td>\n",
       "      <td>NaN</td>\n",
       "      <td>北九州市若松区本町三丁目１３－１</td>\n",
       "      <td>33.898056, 130.81</td>\n",
       "      <td>NO2</td>\n",
       "      <td>japan-soramame</td>\n",
       "      <td>ppm</td>\n",
       "      <td>0.005</td>\n",
       "      <td>2024-03-10T13:30:00+05:30</td>\n",
       "      <td>Japan</td>\n",
       "    </tr>\n",
       "    <tr>\n",
       "      <th>2</th>\n",
       "      <td>JP</td>\n",
       "      <td>NaN</td>\n",
       "      <td>北九州市門司区大里原町１２－１２</td>\n",
       "      <td>33.895833, 130.935833</td>\n",
       "      <td>NOX</td>\n",
       "      <td>japan-soramame</td>\n",
       "      <td>ppm</td>\n",
       "      <td>0.013</td>\n",
       "      <td>2024-03-10T13:30:00+05:30</td>\n",
       "      <td>Japan</td>\n",
       "    </tr>\n",
       "    <tr>\n",
       "      <th>3</th>\n",
       "      <td>JP</td>\n",
       "      <td>NaN</td>\n",
       "      <td>千歳市若草４－１３</td>\n",
       "      <td>42.786944, 141.605</td>\n",
       "      <td>NO2</td>\n",
       "      <td>japan-soramame</td>\n",
       "      <td>ppm</td>\n",
       "      <td>0.004</td>\n",
       "      <td>2024-03-10T13:30:00+05:30</td>\n",
       "      <td>Japan</td>\n",
       "    </tr>\n",
       "    <tr>\n",
       "      <th>4</th>\n",
       "      <td>JP</td>\n",
       "      <td>NaN</td>\n",
       "      <td>千葉市稲毛区宮野木町９９６－９</td>\n",
       "      <td>35.653889, 140.097778</td>\n",
       "      <td>NOX</td>\n",
       "      <td>japan-soramame</td>\n",
       "      <td>ppm</td>\n",
       "      <td>0.003</td>\n",
       "      <td>2024-03-10T13:30:00+05:30</td>\n",
       "      <td>Japan</td>\n",
       "    </tr>\n",
       "  </tbody>\n",
       "</table>\n",
       "</div>"
      ],
      "text/plain": [
       "  Country Code City           Location            Coordinates Pollutant  \\\n",
       "0           JP  NaN  北九州市小倉北区大門一丁目６－４８  33.880833, 130.873056        NO   \n",
       "1           JP  NaN   北九州市若松区本町三丁目１３－１      33.898056, 130.81       NO2   \n",
       "2           JP  NaN   北九州市門司区大里原町１２－１２  33.895833, 130.935833       NOX   \n",
       "3           JP  NaN          千歳市若草４－１３     42.786944, 141.605       NO2   \n",
       "4           JP  NaN    千葉市稲毛区宮野木町９９６－９  35.653889, 140.097778       NOX   \n",
       "\n",
       "      Source Name Unit  Value               Last Updated Country Label  \n",
       "0  japan-soramame  ppm  0.002  2024-03-10T13:30:00+05:30         Japan  \n",
       "1  japan-soramame  ppm  0.005  2024-03-10T13:30:00+05:30         Japan  \n",
       "2  japan-soramame  ppm  0.013  2024-03-10T13:30:00+05:30         Japan  \n",
       "3  japan-soramame  ppm  0.004  2024-03-10T13:30:00+05:30         Japan  \n",
       "4  japan-soramame  ppm  0.003  2024-03-10T13:30:00+05:30         Japan  "
      ]
     },
     "execution_count": 8,
     "metadata": {},
     "output_type": "execute_result"
    }
   ],
   "source": [
    "data = pd.read_csv(\"data/raw/world_air_quality.csv\", sep=';')\n",
    "data.head()"
   ]
  },
  {
   "cell_type": "code",
   "execution_count": 15,
   "metadata": {},
   "outputs": [
    {
     "name": "stdout",
     "output_type": "stream",
     "text": [
      "2014-03-13T17:30:00+05:30\n",
      "2024-03-25T14:30:00+05:30\n"
     ]
    }
   ],
   "source": [
    "# Getting time range of observations\n",
    "print(data['Last Updated'].min())\n",
    "print(data['Last Updated'].max())"
   ]
  },
  {
   "cell_type": "code",
   "execution_count": 21,
   "metadata": {},
   "outputs": [
    {
     "data": {
      "text/plain": [
       "Pollutant\n",
       "NO2                 9942\n",
       "PM2.5               9547\n",
       "O3                  8350\n",
       "PM10                8050\n",
       "SO2                 6907\n",
       "CO                  5074\n",
       "NO                  3863\n",
       "NOX                 2015\n",
       "BC                   135\n",
       "PM1                  124\n",
       "TEMPERATURE          117\n",
       "RELATIVEHUMIDITY      66\n",
       "UM003                 65\n",
       "Name: count, dtype: int64"
      ]
     },
     "execution_count": 21,
     "metadata": {},
     "output_type": "execute_result"
    }
   ],
   "source": [
    "data['Pollutant'].value_counts()"
   ]
  },
  {
   "cell_type": "code",
   "execution_count": 22,
   "metadata": {},
   "outputs": [
    {
     "data": {
      "text/plain": [
       "Country Code\n",
       "CN    11115\n",
       "JP     6270\n",
       "US     6051\n",
       "ES     3251\n",
       "FR     2490\n",
       "      ...  \n",
       "KU        1\n",
       "MG        1\n",
       "TI        1\n",
       "AZ        1\n",
       "CS        1\n",
       "Name: count, Length: 131, dtype: int64"
      ]
     },
     "execution_count": 22,
     "metadata": {},
     "output_type": "execute_result"
    }
   ],
   "source": [
    "data['Country Code'].value_counts()"
   ]
  },
  {
   "cell_type": "code",
   "execution_count": null,
   "metadata": {},
   "outputs": [],
   "source": []
  }
 ],
 "metadata": {
  "kernelspec": {
   "display_name": "fifa-potential",
   "language": "python",
   "name": "python3"
  },
  "language_info": {
   "codemirror_mode": {
    "name": "ipython",
    "version": 3
   },
   "file_extension": ".py",
   "mimetype": "text/x-python",
   "name": "python",
   "nbconvert_exporter": "python",
   "pygments_lexer": "ipython3",
   "version": "3.12.2"
  }
 },
 "nbformat": 4,
 "nbformat_minor": 2
}
